{
 "cells": [
  {
   "cell_type": "code",
   "execution_count": 18,
   "id": "c7c8482f-1c04-4d99-b845-ae17288b1a52",
   "metadata": {},
   "outputs": [],
   "source": [
    "import pandas as pd\n",
    "\n",
    "from preprocess_data import *"
   ]
  },
  {
   "cell_type": "markdown",
   "id": "03eb9ff1-cb6a-4a26-ad78-7938bd6efc58",
   "metadata": {},
   "source": [
    "## 1. Downloading the data"
   ]
  },
  {
   "cell_type": "markdown",
   "id": "4791e145-8689-4958-8a8d-abe399b6b85a",
   "metadata": {},
   "source": [
    "To get started with MLflow you'll need to install the MLflow Python package.\n",
    "\n",
    "For this we recommend creating a separate Python environment, for example, you can use [conda environments](https://docs.conda.io/projects/conda/en/latest/user-guide/getting-started.html#managing-envs), and then install the package there with `pip` or `conda`.\n",
    "\n",
    "Once you installed the package, run the command `mlflow --version` and check the output.\n",
    "\n",
    "What's the version that you have?"
   ]
  },
  {
   "cell_type": "code",
   "execution_count": 7,
   "id": "8ae82629-cff2-4ec5-a6f2-4f08c2c3617c",
   "metadata": {
    "scrolled": true
   },
   "outputs": [
    {
     "name": "stdout",
     "output_type": "stream",
     "text": [
      "2.13.0\n",
      "\u001b[34mINFO:\u001b[0m \u001b[2mPDM \u001b[0m\u001b[1;2;36m2.15\u001b[0m\u001b[2;36m.\u001b[0m\u001b[1;2;36m1\u001b[0m\u001b[2m is installed, while \u001b[0m\u001b[1;2;36m2.15\u001b[0m\u001b[2;36m.\u001b[0m\u001b[1;2;36m3\u001b[0m\u001b[2m is available.\u001b[0m\n",
      "\u001b[2mPlease run \u001b[0m\u001b[1;2;32m`pdm self update`\u001b[0m\u001b[2m to upgrade.\u001b[0m\n",
      "\u001b[2mRun \u001b[0m\u001b[1;2;32m`pdm config check_update false`\u001b[0m\u001b[2m to disable the check.\u001b[0m\n"
     ]
    }
   ],
   "source": [
    "!pdm show mlflow --version"
   ]
  },
  {
   "cell_type": "markdown",
   "id": "e2d3e366-160f-484b-bb22-7c21c34c57ba",
   "metadata": {},
   "source": [
    "## 2. Download and preprocess the data"
   ]
  },
  {
   "attachments": {},
   "cell_type": "markdown",
   "id": "88e15eb1-9dc6-4c5d-871a-8e92d4268837",
   "metadata": {},
   "source": [
    "We'll use the Green Taxi Trip Records dataset to predict the duration of each trip.\n",
    "\n",
    "Download the data for January, February and March 2023 in parquet format from [here](https://www1.nyc.gov/site/tlc/about/tlc-trip-record-data.page).\n",
    "\n",
    "Use the script `preprocess_data.py` located in the folder [homework](https://github.com/DataTalksClub/mlops-zoomcamp/tree/main/cohorts/2024/02-experiment-tracking/homework) to preprocess the data.\n",
    "\n",
    "The script will:\n",
    "\n",
    "- load the data from the folder <TAXI_DATA_FOLDER> (the folder where you have downloaded the data),\n",
    "- fit a DictVectorizer on the training set (January 2023 data),\n",
    "- save the preprocessed datasets and the DictVectorizer to disk.\n",
    "  \n",
    "Your task is to download the datasets and then execute this command:<br/>\n",
    "`python preprocess_data.py --raw_data_path <TAXI_DATA_FOLDER> --dest_path ./output`\n",
    "\n",
    "Tip: go to 02-experiment-tracking/homework/ folder before executing the command and change the value of <TAXI_DATA_FOLDER> to the location where you saved the data.\n",
    "\n",
    "How many files were saved to OUTPUT_FOLDER?"
   ]
  },
  {
   "cell_type": "code",
   "execution_count": 22,
   "id": "f097e2b3-6ea5-4672-bbb8-d81e663a8d69",
   "metadata": {},
   "outputs": [],
   "source": [
    "!python preprocess_data.py --raw_data_path /home/samir/mlops-zoomcap/02-experiment-tracking/data --dest_path ./output"
   ]
  },
  {
   "cell_type": "code",
   "execution_count": null,
   "id": "22952c61-4f93-4bec-8daf-4b316153b328",
   "metadata": {},
   "outputs": [],
   "source": []
  }
 ],
 "metadata": {
  "kernelspec": {
   "display_name": "Python 3 (ipykernel)",
   "language": "python",
   "name": "python3"
  },
  "language_info": {
   "codemirror_mode": {
    "name": "ipython",
    "version": 3
   },
   "file_extension": ".py",
   "mimetype": "text/x-python",
   "name": "python",
   "nbconvert_exporter": "python",
   "pygments_lexer": "ipython3",
   "version": "3.12.3"
  }
 },
 "nbformat": 4,
 "nbformat_minor": 5
}
